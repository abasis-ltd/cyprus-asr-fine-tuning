{
  "cells": [
    {
      "cell_type": "code",
      "execution_count": null,
      "metadata": {
        "id": "Sw7QaBW5XKaK"
      },
      "outputs": [],
      "source": [
        "import logging\n",
        "import torch\n",
        "import warnings\n",
        "import pandas as pd\n",
        "\n",
        "logging.basicConfig(level=logging.INFO)\n",
        "warnings.filterwarnings('ignore')\n",
        "logging.getLogger(\"pyngrok\").setLevel(logging.ERROR)\n",
        "logging.getLogger(\"transformers\").setLevel(logging.ERROR)\n",
        "logging.getLogger(\"torch\").setLevel(logging.ERROR)\n",
        "logger = logging.getLogger(__name__)\n",
        "\n",
        "import warnings\n",
        "warnings.filterwarnings('ignore')\n",
        "\n",
        "torch.manual_seed(42)"
      ]
    },
    {
      "cell_type": "code",
      "execution_count": null,
      "metadata": {
        "id": "mfWrWswQiJg-"
      },
      "outputs": [],
      "source": [
        "device = torch.device(\"cuda\" if torch.cuda.is_available() else \"cpu\")\n",
        "print(f'Using device: {device}')\n",
        "print(f\"PyTorch version: {torch.__version__}\")\n",
        "if torch.cuda.is_available():\n",
        "    print(f\"CUDA device: {torch.cuda.get_device_name(0)}\")"
      ]
    },
    {
      "cell_type": "code",
      "execution_count": null,
      "metadata": {
        "id": "7g-BePsqgXBT"
      },
      "outputs": [],
      "source": [
        "from datasets import load_dataset\n",
        "\n",
        "dictionary_cyprus = load_dataset(\"Elormiden/Thesaurus-Cypriot-Greek-Dialect\")"
      ]
    },
    {
      "cell_type": "code",
      "execution_count": null,
      "metadata": {
        "id": "MKdBkDR3hLrn"
      },
      "outputs": [],
      "source": [
        "def prepare_cyprus_words(dataset_dict):\n",
        "  def format_example(example):\n",
        "    return {\n",
        "            'input_text': example['word'],\n",
        "            'target_text': example['greek_word']\n",
        "    }\n",
        "  train_dataset = dataset_dict['train'].map(format_example)\n",
        "  val_dataset = dataset_dict['validation'].map(format_example)\n",
        "  train_dataset = train_dataset.remove_columns(['word', 'description', 'greek_word', 'greek_description'])\n",
        "  val_dataset = val_dataset.remove_columns(['word', 'description', 'greek_word', 'greek_description'])\n",
        "\n",
        "  return train_dataset, val_dataset"
      ]
    },
    {
      "cell_type": "code",
      "execution_count": null,
      "metadata": {
        "id": "_ak_FRrzhkS5"
      },
      "outputs": [],
      "source": [
        "train_text, val_text = prepare_cyprus_words(dictionary_cyprus)"
      ]
    },
    {
      "cell_type": "code",
      "source": [
        "# def tokenize_text_pairs(batch):\n",
        "#    input_texts = [text.upper() for text in tqdm(batch['input_text'], desc=\"Collecting input\")]\n",
        "#    target_texts = [text.upper() for text in tqdm(batch['target_text'], desc=\"Collecting target\")]\n",
        "\n",
        "#    def tokenize_by_char(text):\n",
        "#       chars = list(text)\n",
        "#       ids = [processor.tokenizer(c)['input_ids'][0] for c in chars]\n",
        "#       return ids\n",
        "\n",
        "#    tokenized_input_texts = [tokenize_by_char(text) for text in tqdm(input_texts, desc=\"Tokenized input\")]\n",
        "#    tokenized_target_texts = [tokenize_by_char(text) for text in tqdm(target_texts, desc=\"Tokenized target\")]\n",
        "\n",
        "#   #  inputs = processor.tokenizer(\n",
        "#   #       tokenized_input_texts,\n",
        "#   #       padding=True,\n",
        "#   #       truncation=True,\n",
        "#   #       max_length=128,\n",
        "#   #         # return_tensors=\"pt\" # -> вложенность списков\n",
        "#   #   )\n",
        "\n",
        "#   #  labels = processor.tokenizer(\n",
        "#   #       tokenized_target_texts,\n",
        "#   #       padding=True,\n",
        "#   #       truncation=True,\n",
        "#   #        max_length=128,\n",
        "#   #        # return_tensors=\"pt\" # -> вложенность списков\n",
        "#   #   )\n",
        "\n",
        "#   #  labels_ids = labels[\"input_ids\"]\n",
        "#   #  labels_ids = torch.tensor(labels_ids)  # Превращаем в tensor\n",
        "#   #  labels_ids[labels_ids == 0] = -100     # ВОТ ТАК РАБОТАЕТ!\n",
        "\n",
        "#    return {\n",
        "#       **inputs,\n",
        "#       \"labels\": labels_ids\n",
        "#    }\n",
        "\n",
        "# как нам тогда в середине теперь оформить"
      ],
      "metadata": {
        "id": "N-RLYOe-J_IA"
      },
      "execution_count": null,
      "outputs": []
    },
    {
      "cell_type": "code",
      "source": [
        "from torch.nn.utils.rnn import pad_sequence\n",
        "from tqdm import tqdm\n",
        "\n",
        "def tokenize_by_char(text):\n",
        "    chars = list(text.upper())\n",
        "    ids = [processor.tokenizer(c)['input_ids'][0] for c in chars]\n",
        "    return ids\n",
        "\n",
        "def tokenize_text_pairs(batch):\n",
        "    tokenized_input_texts = []\n",
        "    tokenized_target_texts = []\n",
        "\n",
        "    for input_text, target_text in tqdm(zip(batch['input_text'], batch['target_text']),\n",
        "                                       total=len(batch['input_text']), desc=\"Tokenizing batch\"):\n",
        "        tokenized_input_texts.append(tokenize_by_char(input_text))\n",
        "        tokenized_target_texts.append(tokenize_by_char(target_text))\n",
        "\n",
        "    input_ids_tensors = [torch.tensor(ids, dtype=torch.long) for ids in tokenized_input_texts]\n",
        "    labels_tensors = [torch.tensor(ids, dtype=torch.long) for ids in tokenized_target_texts]\n",
        "\n",
        "    input_ids_padded = pad_sequence(input_ids_tensors, batch_first=True, padding_value=0)\n",
        "    labels_padded = pad_sequence(labels_tensors, batch_first=True, padding_value=0)\n",
        "\n",
        "    attention_mask = (input_ids_padded != 0).long()\n",
        "    labels_padded[labels_padded == 0] = -100\n",
        "\n",
        "    return {\n",
        "        \"input_ids\": input_ids_padded,\n",
        "        \"attention_mask\": attention_mask,\n",
        "        \"labels\": labels_padded\n",
        "    }"
      ],
      "metadata": {
        "id": "o7QwaDX7IrOj"
      },
      "execution_count": null,
      "outputs": []
    },
    {
      "cell_type": "code",
      "source": [
        "train_cyprus_tokenized = tokenize_text_pairs(train_text)\n",
        "val_cyprus_tokenized = tokenize_text_pairs(val_text)"
      ],
      "metadata": {
        "id": "LIkYv5uGIze4"
      },
      "execution_count": null,
      "outputs": []
    },
    {
      "cell_type": "code",
      "source": [
        "train_cyprus_tokenized['labels'][43]"
      ],
      "metadata": {
        "id": "mtVUN1IfJYZX"
      },
      "execution_count": null,
      "outputs": []
    },
    {
      "cell_type": "code",
      "execution_count": null,
      "metadata": {
        "id": "tvQC4Qm6jMnN"
      },
      "outputs": [],
      "source": [
        "for param in model.wav2vec2.parameters():\n",
        "    param.requires_grad = False\n",
        "\n",
        "for param in model.lm_head.parameters():\n",
        "    param.requires_grad = True\n",
        "\n",
        "trainable_params = sum(p.numel() for p in model.parameters() if p.requires_grad)\n",
        "total_params = sum(p.numel() for p in model.parameters())\n",
        "print(f\"Trainable: {trainable_params:,} / Total: {total_params:,}\")"
      ]
    },
    {
      "cell_type": "code",
      "execution_count": null,
      "metadata": {
        "id": "80Rfs4DFj3xF"
      },
      "outputs": [],
      "source": [
        "from transformers import TrainingArguments, Trainer\n",
        "\n",
        "text_training_args = TrainingArguments(\n",
        "    output_dir='./wav2vec2-cypriot-text-pretrain',\n",
        "    run_name=\"cypriot-greek-text-mapping\",\n",
        "    overwrite_output_dir=True,\n",
        "    max_steps=1000,\n",
        "    per_device_train_batch_size=32,\n",
        "    per_device_eval_batch_size=32,\n",
        "    save_steps=200,\n",
        "    eval_steps=100,\n",
        "    logging_steps=50,\n",
        "    learning_rate=2e-4,\n",
        "    weight_decay=0.01,\n",
        "    warmup_steps=100,\n",
        "    eval_strategy=\"steps\",\n",
        "    save_total_limit=2,\n",
        "    fp16=True,\n",
        "    report_to=[],\n",
        ")"
      ]
    },
    {
      "cell_type": "code",
      "execution_count": null,
      "metadata": {
        "id": "xeKz4Hx2o2b3"
      },
      "outputs": [],
      "source": [
        "sample = train_cyprus_tokenized[0]\n",
        "print(f\"Sample keys: {sample.keys()}\")\n",
        "for key, value in sample.items():\n",
        "    print(f\"{key}: type={type(value)}, shape={value.shape if hasattr(value, 'shape') else 'no shape'}\")"
      ]
    },
    {
      "cell_type": "code",
      "execution_count": null,
      "metadata": {
        "id": "QfXQbayMphBA"
      },
      "outputs": [],
      "source": [
        "train_data_dict = {\n",
        "    'input_ids': train_cyprus_tokenized['input_ids'],\n",
        "    'attention_mask': train_cyprus_tokenized['attention_mask'],\n",
        "    'labels': train_cyprus_tokenized['labels']\n",
        "}\n",
        "\n",
        "val_data_dict = {\n",
        "    'input_ids': val_cyprus_tokenized['input_ids'],\n",
        "    'attention_mask': val_cyprus_tokenized['attention_mask'],\n",
        "    'labels': val_cyprus_tokenized['labels']\n",
        "}\n",
        "\n",
        "text_train_hf = Dataset.from_dict(train_data_dict)\n",
        "text_val_hf = Dataset.from_dict(val_data_dict)"
      ]
    },
    {
      "cell_type": "code",
      "execution_count": null,
      "metadata": {
        "id": "zBa-bcp3qTZk"
      },
      "outputs": [],
      "source": [
        "text_train_hf"
      ]
    },
    {
      "cell_type": "code",
      "execution_count": null,
      "metadata": {
        "id": "WTdB9tYzkBzX"
      },
      "outputs": [],
      "source": [
        "text_trainer = Trainer(\n",
        "    model=model,\n",
        "    args=text_training_args,\n",
        "    train_dataset=train_cyprus_tokenized,\n",
        "    eval_dataset=val_cyprus_tokenized,\n",
        "    data_collator=data_collator,\n",
        "    tokenizer=processor.tokenizer,\n",
        ")"
      ]
    },
    {
      "cell_type": "code",
      "execution_count": null,
      "metadata": {
        "id": "Lz09mkyrkQc8"
      },
      "outputs": [],
      "source": [
        "text_trainer.train()"
      ]
    },
    {
      "cell_type": "code",
      "execution_count": null,
      "metadata": {
        "id": "SFaJOikrXP_a"
      },
      "outputs": [],
      "source": [
        "from transformers import AutoProcessor, AutoModelForCTC, Trainer, TrainingArguments, DataCollatorWithPadding\n",
        "from transformers import Wav2Vec2Processor, Wav2Vec2ForCTC\n",
        "import librosa\n",
        "import numpy as np\n",
        "from tqdm import tqdm\n",
        "import copy\n",
        "import re\n",
        "from datasets import load_dataset, Audio"
      ]
    },
    {
      "cell_type": "code",
      "execution_count": null,
      "metadata": {
        "id": "pyyHeKvNXlx2"
      },
      "outputs": [],
      "source": [
        "ds = load_dataset(\"mozilla-foundation/common_voice_17_0\", \"el\")\n"
      ]
    },
    {
      "cell_type": "code",
      "execution_count": null,
      "metadata": {
        "id": "KrxGo8vQX6iy"
      },
      "outputs": [],
      "source": [
        "MODEL_ID = \"jonatasgrosman/wav2vec2-large-xlsr-53-greek\"\n",
        "processor = Wav2Vec2Processor.from_pretrained(MODEL_ID)\n",
        "model = Wav2Vec2ForCTC.from_pretrained(MODEL_ID)"
      ]
    },
    {
      "cell_type": "code",
      "execution_count": null,
      "metadata": {
        "id": "q1qtyyv7YHSg"
      },
      "outputs": [],
      "source": [
        "print(f\"Модель: {type(model)}\")\n",
        "print(f\"Процессор: {type(processor)}\")\n",
        "print(f\"Параметры модели: {next(model.parameters()).dtype}\")\n",
        "print(f\"Model vocab size: {model.config.vocab_size}\")\n",
        "print(f\"Processor vocab: {len(processor.tokenizer.get_vocab())}\")"
      ]
    },
    {
      "cell_type": "code",
      "execution_count": null,
      "metadata": {
        "id": "myKpFHzyYNMZ"
      },
      "outputs": [],
      "source": [
        "sample = ds['train'][0]\n",
        "print(f\"Sample keys: {sample.keys()}\")\n",
        "print(f\"Audio type: {type(sample['audio'])}\")\n",
        "print(f\"Sentence: {sample['sentence']}\")"
      ]
    },
    {
      "cell_type": "code",
      "execution_count": null,
      "metadata": {
        "id": "VRO0i-M9YWr0"
      },
      "outputs": [],
      "source": [
        "def sampling_map(array): # <- ds [train] goes here MANUALLY\n",
        "    saved_array = array\n",
        "    sr = array['audio']['sampling_rate']\n",
        "    tr = 16000\n",
        "    resample_array = librosa.resample(array['audio']['array'], orig_sr=sr, target_sr=tr)\n",
        "    saved_array['audio'] = {\n",
        "        'path': array['audio']['path'],\n",
        "        'array': resample_array,\n",
        "        'sampling_rate': tr\n",
        "    }\n",
        "    return saved_array"
      ]
    },
    {
      "cell_type": "code",
      "execution_count": null,
      "metadata": {
        "id": "FMkTRGCNYPAr"
      },
      "outputs": [],
      "source": [
        "reforged_train = [sampling_map(sample) for sample in tqdm(ds['train'], desc=\"Resampling\")]\n",
        "reforged_eval = [sampling_map(sample) for sample in tqdm(ds['validation'], desc=\"Resampling\")]"
      ]
    },
    {
      "cell_type": "code",
      "execution_count": null,
      "metadata": {
        "id": "Mu_N-TI2qgK1"
      },
      "outputs": [],
      "source": [
        "reforged_train[:10]"
      ]
    },
    {
      "cell_type": "code",
      "execution_count": null,
      "metadata": {
        "id": "Rut2jAyVYVoY"
      },
      "outputs": [],
      "source": [
        "def process_reforged_list_wac2vec2(rf_ds):\n",
        "    audio_arrays = [sample[\"audio\"][\"array\"] for sample in rf_ds]\n",
        "    sentences = [sample[\"sentence\"] for sample in rf_ds]\n",
        "\n",
        "    inputs = processor(\n",
        "        audio_arrays,\n",
        "        sampling_rate=16000,\n",
        "        padding=True,\n",
        "        max_length=16000,\n",
        "        truncation=True\n",
        "    )\n",
        "\n",
        "    labels = processor.tokenizer(\n",
        "        sentences,\n",
        "        padding='max_length',\n",
        "        max_length=512,\n",
        "        truncation=True\n",
        "    )\n",
        "\n",
        "    labels_ids = labels[\"input_ids\"]\n",
        "    labels_ids = torch.tensor(labels_ids)  # Превращаем в tensor\n",
        "    labels_ids[labels_ids == 0] = -100     # ВОТ ТАК РАБОТАЕТ!\n",
        "\n",
        "    return {\n",
        "        **inputs,\n",
        "        \"labels\": labels_ids\n",
        "    }"
      ]
    },
    {
      "cell_type": "code",
      "execution_count": null,
      "metadata": {
        "id": "TWmXF9gTYoVH"
      },
      "outputs": [],
      "source": [
        "processed_data_train = process_reforged_list_wac2vec2(reforged_train)\n",
        "processed_data_eval = process_reforged_list_wac2vec2(reforged_eval)"
      ]
    },
    {
      "cell_type": "code",
      "execution_count": null,
      "metadata": {
        "id": "Zs4FSvCuYuND"
      },
      "outputs": [],
      "source": [
        "print(processed_data_train)\n",
        "print(processed_data_eval.keys())"
      ]
    },
    {
      "cell_type": "code",
      "execution_count": null,
      "metadata": {
        "id": "l-wiY5U_YvYS"
      },
      "outputs": [],
      "source": [
        "processed_data_eval['labels'][0]"
      ]
    },
    {
      "cell_type": "code",
      "execution_count": null,
      "metadata": {
        "id": "P1BkG3i-YwnL"
      },
      "outputs": [],
      "source": [
        "from datasets import Dataset\n",
        "train_hf = Dataset.from_dict(processed_data_train)\n",
        "eval_hf = Dataset.from_dict(processed_data_eval)"
      ]
    },
    {
      "cell_type": "code",
      "execution_count": null,
      "metadata": {
        "id": "uTqDQK3EYzel"
      },
      "outputs": [],
      "source": [
        "print(\"=== TRAIN DATASET ===\")\n",
        "print(f\"Размер: {len(train_hf)}\")\n",
        "print(f\"Колонки: {train_hf.column_names}\")\n",
        "print(f\"Features: {train_hf.features}\")\n",
        "\n",
        "print(\"\\n=== EVAL DATASET ===\")\n",
        "print(f\"Размер: {len(eval_hf)}\")\n",
        "print(f\"Колонки: {eval_hf.column_names}\")\n",
        "print(f\"Features: {eval_hf.features}\")"
      ]
    },
    {
      "cell_type": "code",
      "execution_count": null,
      "metadata": {
        "id": "hJfCIaTqY0tG"
      },
      "outputs": [],
      "source": [
        "import torch\n",
        "\n",
        "from dataclasses import dataclass, field\n",
        "from typing import Any, Dict, List, Optional, Union\n",
        "\n",
        "@dataclass\n",
        "class DataCollatorCTCWithPadding:\n",
        "    \"\"\"\n",
        "    Data collator that will dynamically pad the inputs received.\n",
        "    Args:\n",
        "        processor (:class:`~transformers.Wav2Vec2Processor`)\n",
        "            The processor used for proccessing the data.\n",
        "        padding (:obj:`bool`, :obj:`str` or :class:`~transformers.tokenization_utils_base.PaddingStrategy`, `optional`, defaults to :obj:`True`):\n",
        "            Select a strategy to pad the returned sequences (according to the model's padding side and padding index)\n",
        "            among:\n",
        "            * :obj:`True` or :obj:`'longest'`: Pad to the longest sequence in the batch (or no padding if only a single\n",
        "              sequence if provided).\n",
        "            * :obj:`'max_length'`: Pad to a maximum length specified with the argument :obj:`max_length` or to the\n",
        "              maximum acceptable input length for the model if that argument is not provided.\n",
        "            * :obj:`False` or :obj:`'do_not_pad'` (default): No padding (i.e., can output a batch with sequences of\n",
        "              different lengths).\n",
        "        max_length (:obj:`int`, `optional`):\n",
        "            Maximum length of the ``input_values`` of the returned list and optionally padding length (see above).\n",
        "        max_length_labels (:obj:`int`, `optional`):\n",
        "            Maximum length of the ``labels`` returned list and optionally padding length (see above).\n",
        "        pad_to_multiple_of (:obj:`int`, `optional`):\n",
        "            If set will pad the sequence to a multiple of the provided value.\n",
        "            This is especially useful to enable the use of Tensor Cores on NVIDIA hardware with compute capability >=\n",
        "            7.5 (Volta).\n",
        "    \"\"\"\n",
        "\n",
        "    processor: Wav2Vec2Processor\n",
        "    padding: Union[bool, str] = True\n",
        "    max_length: Optional[int] = None\n",
        "    max_length_labels: Optional[int] = None\n",
        "    pad_to_multiple_of: Optional[int] = None\n",
        "    pad_to_multiple_of_labels: Optional[int] = None\n",
        "\n",
        "    def __call__(self, features: List[Dict[str, Union[List[int], torch.Tensor]]]) -> Dict[str, torch.Tensor]:\n",
        "        # split inputs and labels since they have to be of different lengths and need\n",
        "        # different padding methods\n",
        "        input_features = [{\"input_values\": feature[\"input_values\"]} for feature in features]\n",
        "        label_features = [{\"input_ids\": feature[\"labels\"]} for feature in features]\n",
        "\n",
        "        batch = self.processor.pad(\n",
        "            input_features,\n",
        "            padding=self.padding,\n",
        "            max_length=self.max_length,\n",
        "            pad_to_multiple_of=self.pad_to_multiple_of,\n",
        "            return_tensors=\"pt\",\n",
        "        )\n",
        "        with self.processor.as_target_processor():\n",
        "            labels_batch = self.processor.pad(\n",
        "                label_features,\n",
        "                padding=self.padding,\n",
        "                max_length=self.max_length_labels,\n",
        "                pad_to_multiple_of=self.pad_to_multiple_of_labels,\n",
        "                return_tensors=\"pt\",\n",
        "            )\n",
        "\n",
        "        # replace padding with -100 to ignore loss correctly\n",
        "        labels = labels_batch[\"input_ids\"].masked_fill(labels_batch.attention_mask.ne(1), -100)\n",
        "\n",
        "        batch[\"labels\"] = labels\n",
        "\n",
        "        return batch\n"
      ]
    },
    {
      "cell_type": "code",
      "execution_count": null,
      "metadata": {
        "id": "JDxpqffaY3A4"
      },
      "outputs": [],
      "source": [
        "data_collator = DataCollatorCTCWithPadding(processor=processor, padding=True)"
      ]
    },
    {
      "cell_type": "code",
      "execution_count": null,
      "metadata": {
        "id": "HmBIFmzHY4_0"
      },
      "outputs": [],
      "source": [
        "print(\"Проверка labels:\")\n",
        "sample_labels = processed_data_eval['labels'][0]\n",
        "print(f\"Labels: {sample_labels}\")\n",
        "print(f\"Уникальные: {set(sample_labels)}\")\n",
        "print(f\"Есть ли -100: {-100 in sample_labels}\")\n",
        "print(f\"Все ли -100: {all(x == -100 for x in sample_labels)}\")"
      ]
    },
    {
      "cell_type": "code",
      "execution_count": null,
      "metadata": {
        "id": "hfjErhCCY6ys"
      },
      "outputs": [],
      "source": [
        "from transformers import TrainingArguments, Trainer\n",
        "\n",
        "training_args = TrainingArguments(\n",
        "      output_dir=\"./new\",\n",
        "      overwrite_output_dir=True,\n",
        "      max_steps=100,\n",
        "      per_device_train_batch_size=10, # количество рассмотренных обьектов за один раз -> усреднение -> лучшая точность\n",
        "      save_steps=50,\n",
        "      save_total_limit=1,\n",
        "      prediction_loss_only=True,\n",
        "      fp16=True,\n",
        "      learning_rate=5e-6,\n",
        "      ######################\n",
        "      logging_steps=10,    # <- training losses\n",
        "      ######################\n",
        "      eval_strategy=\"steps\",\n",
        "      eval_steps=10, # <- validation losses\n",
        "      ######################\n",
        "    )\n",
        "\n",
        "trainer = Trainer(\n",
        "   model=model,\n",
        "   args=training_args,\n",
        "   train_dataset=train_hf,        # Весь датасет\n",
        "   eval_dataset=eval_hf,\n",
        "   data_collator=data_collator,\n",
        "   tokenizer=processor.feature_extractor,\n",
        ")"
      ]
    },
    {
      "cell_type": "code",
      "execution_count": null,
      "metadata": {
        "id": "2tZk4Y_FZChS"
      },
      "outputs": [],
      "source": [
        "trainer.train()"
      ]
    }
  ],
  "metadata": {
    "accelerator": "GPU",
    "colab": {
      "gpuType": "T4",
      "provenance": []
    },
    "kernelspec": {
      "display_name": "Python 3",
      "name": "python3"
    },
    "language_info": {
      "name": "python"
    }
  },
  "nbformat": 4,
  "nbformat_minor": 0
}