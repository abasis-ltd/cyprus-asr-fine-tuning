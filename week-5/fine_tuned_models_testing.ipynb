{
  "nbformat": 4,
  "nbformat_minor": 0,
  "metadata": {
    "colab": {
      "provenance": [],
      "gpuType": "T4"
    },
    "kernelspec": {
      "name": "python3",
      "display_name": "Python 3"
    },
    "language_info": {
      "name": "python"
    },
    "accelerator": "GPU"
  },
  "cells": [
    {
      "cell_type": "code",
      "source": [
        "from transformers import AutoProcessor, AutoModelForCTC\n",
        "from datasets import Dataset, load_dataset, Audio, DatasetDict\n",
        "import torch\n",
        "from tqdm.auto import tqdm\n",
        "import random"
      ],
      "metadata": {
        "id": "eJardU1xyyYX"
      },
      "execution_count": null,
      "outputs": []
    },
    {
      "cell_type": "code",
      "execution_count": null,
      "metadata": {
        "id": "5BCqT45fyGgI"
      },
      "outputs": [],
      "source": [
        "milamou_processor = AutoProcessor.from_pretrained(\"Elormiden/wav2vec2-cypriot-greek-milamou\")\n",
        "milamou_model = AutoModelForCTC.from_pretrained(\"Elormiden/wav2vec2-cypriot-greek-milamou\")\n",
        "milamou_model.eval()"
      ]
    },
    {
      "cell_type": "code",
      "source": [
        "hellenic_processor = AutoProcessor.from_pretrained(\"Elormiden/wav2vec2-greek-hellenic-parlament\")\n",
        "hellenic_model = AutoModelForCTC.from_pretrained(\"Elormiden/wav2vec2-greek-hellenic-parlament\")\n",
        "hellenic_model.eval()"
      ],
      "metadata": {
        "id": "60ZsEGvNyNEM"
      },
      "execution_count": null,
      "outputs": []
    },
    {
      "cell_type": "code",
      "source": [
        "base_processor = AutoProcessor.from_pretrained(\"jonatasgrosman/wav2vec2-large-xlsr-53-greek\")\n",
        "base_model = AutoModelForCTC.from_pretrained(\"jonatasgrosman/wav2vec2-large-xlsr-53-greek\")\n",
        "base_model.eval()"
      ],
      "metadata": {
        "id": "oMYHzpsvycIh"
      },
      "execution_count": null,
      "outputs": []
    },
    {
      "cell_type": "code",
      "source": [
        "################ Datasets\n",
        "ds = load_dataset(\"Elormiden/RIK_Cypriot_News_Dataset\", split=\"test\") # audio, text"
      ],
      "metadata": {
        "id": "He4or5c3yl8m"
      },
      "execution_count": null,
      "outputs": []
    },
    {
      "cell_type": "code",
      "source": [
        "def transcribe_audio(model, processor, audio_array):\n",
        "    \"\"\"\n",
        "    Транскрибирует аудио массив с использованием данной ASR модели и процессора.\n",
        "    \"\"\"\n",
        "    inputs = processor(audio_array, sampling_rate=16000, return_tensors=\"pt\", padding=True)\n",
        "\n",
        "    with torch.no_grad():\n",
        "        logits = model(inputs.input_values).logits\n",
        "\n",
        "    predicted_ids = torch.argmax(logits, dim=-1)\n",
        "    transcription = processor.batch_decode(predicted_ids)[0]\n",
        "    return transcription"
      ],
      "metadata": {
        "id": "bglfIgh6y_kH"
      },
      "execution_count": null,
      "outputs": []
    },
    {
      "cell_type": "code",
      "source": [
        "num_samples_to_test = 5\n",
        "random_indices = random.sample(range(len(ds)), num_samples_to_test)\n",
        "\n",
        "for i, idx in enumerate(random_indices):\n",
        "    sample = ds[idx]\n",
        "    audio_data = sample['audio']['array'] # Это уже будет массив numpy 16kHz\n",
        "    true_text = sample['text']\n",
        "\n",
        "    print(f\"\\n=== Пример {i+1} (Индекс в датасете: {idx}) ===\")\n",
        "    print(f\"Оригинальный текст (Истина): \\\"{true_text}\\\"\")\n",
        "    milamou_hyp = transcribe_audio(milamou_model, milamou_processor, audio_data)\n",
        "    print(f\"Milamou:    \\\"{milamou_hyp}\\\"\")\n",
        "\n",
        "    hellenic_hyp = transcribe_audio(hellenic_model, hellenic_processor, audio_data)\n",
        "    print(f\"Hellenic:  \\\"{hellenic_hyp}\\\"\")\n",
        "    base_hyp = transcribe_audio(base_model, base_processor, audio_data)\n",
        "    print(f\"Jonatasgrosman: \\\"{base_hyp}\\\"\")"
      ],
      "metadata": {
        "id": "qSy3ac3Az7_r"
      },
      "execution_count": null,
      "outputs": []
    }
  ]
}