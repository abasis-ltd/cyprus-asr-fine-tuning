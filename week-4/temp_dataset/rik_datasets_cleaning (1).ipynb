{
  "cells": [
    {
      "cell_type": "code",
      "execution_count": null,
      "metadata": {
        "id": "Ewmz6eL_IVZS"
      },
      "outputs": [],
      "source": [
        "import pandas as pd\n",
        "import torch"
      ]
    },
    {
      "cell_type": "code",
      "execution_count": null,
      "metadata": {
        "id": "BdRvfGFAIc2P"
      },
      "outputs": [],
      "source": [
        "# !pip install datasets==3.6.0\n",
        "from huggingface_hub import login\n",
        "login(\"\")"
      ]
    },
    {
      "cell_type": "code",
      "execution_count": null,
      "metadata": {
        "id": "QOR3NCG_Ih1Y"
      },
      "outputs": [],
      "source": [
        "from datasets import Dataset, DatasetDict, Audio, load_dataset"
      ]
    },
    {
      "cell_type": "code",
      "execution_count": null,
      "metadata": {
        "id": "CUTHqxI4Il0a"
      },
      "outputs": [],
      "source": [
        "ds = load_dataset(\"Elormiden/RIK_Cypriot_Collection_Global_with_transcriptions\")"
      ]
    },
    {
      "cell_type": "code",
      "execution_count": null,
      "metadata": {
        "id": "daFtYtYELDAU"
      },
      "outputs": [],
      "source": [
        "ds_train = ds[\"train\"].to_pandas()\n",
        "ds_val = ds[\"validation\"].to_pandas()\n",
        "ds_test = ds[\"test\"].to_pandas()"
      ]
    },
    {
      "cell_type": "code",
      "execution_count": null,
      "metadata": {
        "id": "yjJsU8F6LvMs"
      },
      "outputs": [],
      "source": [
        "print(ds_train.info())\n",
        "print(ds_val.info())\n",
        "print(ds_test.info())"
      ]
    },
    {
      "cell_type": "code",
      "execution_count": null,
      "metadata": {
        "id": "cZNQ6qUqQ4ym"
      },
      "outputs": [],
      "source": [
        "def clean_ds(ds):\n",
        "  ds['text'].drop_duplicates(inplace=True)\n",
        "  ds = ds[~ds[\"text\"].str.contains(r'-\\d+-', regex=True, na=False)] # -number- deletion\n",
        "  ds.dropna(inplace=True)\n",
        "  ds = ds.sample(frac=1, random_state=42) # shuffle dataset\n",
        "  ds.reset_index(drop=True, inplace=True) # reseting index, memory optimization\n",
        "  ds = ds[~ds[\"text\"].str.contains(r\"(.)\\1{3,}\", regex=True)] # delete a line, where letter repeats itself more than 3 times\n",
        "  ds = ds[~ds[\"text\"].str.strip().str.match(r\"^\\(.*\\)$\")] # deleting (music) lines\n",
        "  ds = ds[~ds[\"text\"].str.match(r\"^.{0,9}$\")] # delete a line, where less than 10 symbols\n",
        "  return ds"
      ]
    },
    {
      "cell_type": "code",
      "execution_count": null,
      "metadata": {
        "id": "Qabd_YGCREag"
      },
      "outputs": [],
      "source": [
        "train_ds_clean = clean_ds(ds_train)\n",
        "val_ds_clean = clean_ds(ds_val)\n",
        "test_ds_clean = clean_ds(ds_test)"
      ]
    },
    {
      "cell_type": "code",
      "execution_count": null,
      "metadata": {
        "id": "RtVsrlWxNQxG"
      },
      "outputs": [],
      "source": [
        "print(train_ds_clean.info())\n",
        "print(val_ds_clean.info())\n",
        "print(test_ds_clean.info())"
      ]
    },
    {
      "cell_type": "code",
      "execution_count": null,
      "metadata": {
        "id": "kVb3baT0RPE5"
      },
      "outputs": [],
      "source": [
        "hf_train = Dataset.from_pandas(train_ds_clean)\n",
        "hf_val = Dataset.from_pandas(val_ds_clean)\n",
        "hf_test = Dataset.from_pandas(test_ds_clean)"
      ]
    },
    {
      "cell_type": "code",
      "execution_count": null,
      "metadata": {
        "id": "2SKfU-14OZP7"
      },
      "outputs": [],
      "source": [
        "cleaned_ds = DatasetDict()"
      ]
    },
    {
      "cell_type": "code",
      "execution_count": null,
      "metadata": {
        "id": "eJTdVMGsQp4T"
      },
      "outputs": [],
      "source": [
        "cleaned_ds = DatasetDict({\n",
        "    \"train\": hf_train,\n",
        "    \"validation\": hf_val,\n",
        "    \"test\": hf_test\n",
        "})"
      ]
    },
    {
      "cell_type": "code",
      "execution_count": null,
      "metadata": {
        "id": "keRk89_EUH4b"
      },
      "outputs": [],
      "source": [
        "cleaned_ds = cleaned_ds.cast_column(\"audio\", Audio(sampling_rate=16000))"
      ]
    },
    {
      "cell_type": "code",
      "execution_count": null,
      "metadata": {
        "id": "WUnnzOyUVLOn"
      },
      "outputs": [],
      "source": [
        "cleaned_ds"
      ]
    },
    {
      "cell_type": "code",
      "execution_count": null,
      "metadata": {
        "id": "L1MtXm2NVHVK"
      },
      "outputs": [],
      "source": [
        "cleaned_ds = cleaned_ds.remove_columns([\"__index_level_0__\"])"
      ]
    },
    {
      "cell_type": "code",
      "execution_count": null,
      "metadata": {
        "id": "zigBqa1HRk2G"
      },
      "outputs": [],
      "source": [
        "cleaned_ds.push_to_hub(\"Elormiden/RIK_Cypriot_Collection_Global_with_transcriptions_cleaned\")"
      ]
    }
  ],
  "metadata": {
    "accelerator": "TPU",
    "colab": {
      "gpuType": "V28",
      "provenance": []
    },
    "kernelspec": {
      "display_name": "Python 3",
      "name": "python3"
    },
    "language_info": {
      "name": "python"
    }
  },
  "nbformat": 4,
  "nbformat_minor": 0
}
