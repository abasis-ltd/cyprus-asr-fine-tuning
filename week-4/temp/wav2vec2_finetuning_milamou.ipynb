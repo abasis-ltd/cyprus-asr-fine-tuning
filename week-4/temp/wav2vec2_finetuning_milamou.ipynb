{
  "nbformat": 4,
  "nbformat_minor": 0,
  "metadata": {
    "colab": {
      "provenance": [],
      "gpuType": "V28"
    },
    "kernelspec": {
      "name": "python3",
      "display_name": "Python 3"
    },
    "language_info": {
      "name": "python"
    },
    "accelerator": "TPU"
  },
  "cells": [
    {
      "cell_type": "code",
      "source": [
        "# !pip install datasets==3.6.0\n",
        "# !pip install wandb"
      ],
      "metadata": {
        "id": "7Nab5xGNaFqz"
      },
      "execution_count": 1,
      "outputs": []
    },
    {
      "cell_type": "code",
      "execution_count": 1,
      "metadata": {
        "id": "xl0TifW_MAm-"
      },
      "outputs": [],
      "source": [
        "import logging\n",
        "import torch\n",
        "import warnings\n",
        "\n",
        "logging.basicConfig(level=logging.INFO)\n",
        "warnings.filterwarnings('ignore')\n",
        "logging.getLogger(\"pyngrok\").setLevel(logging.ERROR)\n",
        "logging.getLogger(\"transformers\").setLevel(logging.ERROR)\n",
        "logging.getLogger(\"torch\").setLevel(logging.ERROR)\n",
        "logger = logging.getLogger(__name__)\n",
        "\n",
        "import warnings\n",
        "warnings.filterwarnings('ignore')"
      ]
    },
    {
      "cell_type": "code",
      "source": [
        "device = torch.device(\"cuda\" if torch.cuda.is_available() else \"cpu\")\n",
        "print(f'Using device: {device}')\n",
        "print(f\"PyTorch version: {torch.__version__}\")\n",
        "if torch.cuda.is_available():\n",
        "    print(f\"CUDA device: {torch.cuda.get_device_name(0)}\")"
      ],
      "metadata": {
        "colab": {
          "base_uri": "https://localhost:8080/"
        },
        "id": "8-mMvcDBaEYA",
        "outputId": "284a5cdb-6a24-47c9-c9c1-07cabeb60cc3"
      },
      "execution_count": 2,
      "outputs": [
        {
          "output_type": "stream",
          "name": "stdout",
          "text": [
            "Using device: cpu\n",
            "PyTorch version: 2.6.0+cpu\n"
          ]
        }
      ]
    },
    {
      "cell_type": "code",
      "source": [
        "from transformers import AutoProcessor, AutoModelForCTC, Trainer, TrainingArguments, DataCollatorWithPadding\n",
        "from transformers import Wav2Vec2Processor, Wav2Vec2ForCTC\n",
        "import torch\n",
        "import librosa\n",
        "import numpy as np\n",
        "import re\n",
        "import gc\n",
        "from tqdm import tqdm\n",
        "import copy"
      ],
      "metadata": {
        "id": "cdIuJhewaJGe"
      },
      "execution_count": 3,
      "outputs": []
    },
    {
      "cell_type": "code",
      "source": [
        "from datasets import load_dataset, Dataset, Audio\n",
        "\n",
        "ds = load_dataset(\"Elormiden/MilaMou_Cypriot_Dataset\")"
      ],
      "metadata": {
        "id": "_IqLc-mwaKcF"
      },
      "execution_count": 4,
      "outputs": []
    },
    {
      "cell_type": "code",
      "source": [
        "train_ds = ds['train']\n",
        "eval_ds = ds['validation']"
      ],
      "metadata": {
        "id": "ByI317yqaSUn"
      },
      "execution_count": 5,
      "outputs": []
    },
    {
      "cell_type": "code",
      "source": [
        "from transformers import AutoProcessor, AutoModelForCTC\n",
        "\n",
        "processor = AutoProcessor.from_pretrained(\"jonatasgrosman/wav2vec2-large-xlsr-53-greek\")\n",
        "model = AutoModelForCTC.from_pretrained(\"jonatasgrosman/wav2vec2-large-xlsr-53-greek\")"
      ],
      "metadata": {
        "id": "79cXnhIRaWFs"
      },
      "execution_count": 6,
      "outputs": []
    },
    {
      "cell_type": "code",
      "source": [
        "print(f\"Model vocab size: {model.config.vocab_size}\")\n",
        "print(f\"Processor vocab: {len(processor.tokenizer.get_vocab())}\")"
      ],
      "metadata": {
        "colab": {
          "base_uri": "https://localhost:8080/"
        },
        "id": "JfQa6-6RanN9",
        "outputId": "1c2e08b8-d378-4f08-f18c-f7b8f61cf0b9"
      },
      "execution_count": 7,
      "outputs": [
        {
          "output_type": "stream",
          "name": "stdout",
          "text": [
            "Model vocab size: 41\n",
            "Processor vocab: 41\n"
          ]
        }
      ]
    },
    {
      "cell_type": "code",
      "source": [
        "def sampling_map(array):\n",
        "    sr = array['audio']['sampling_rate']\n",
        "    tr = 16000\n",
        "    if sr != tr:\n",
        "        resample_array = librosa.resample(array['audio']['array'], orig_sr=sr, target_sr=tr)\n",
        "        array['audio'] = {\n",
        "            'path': array['audio']['path'],\n",
        "            'array': resample_array,\n",
        "            'sampling_rate': tr\n",
        "        }\n",
        "    return array"
      ],
      "metadata": {
        "id": "cPqJQmifaqsU"
      },
      "execution_count": 9,
      "outputs": []
    },
    {
      "cell_type": "code",
      "source": [
        "reforged_train = [sampling_map(sample) for sample in tqdm(train_ds, desc=\"Resampling\")]\n",
        "reforged_eval = [sampling_map(sample) for sample in tqdm(eval_ds, desc=\"Resampling\")]"
      ],
      "metadata": {
        "colab": {
          "base_uri": "https://localhost:8080/"
        },
        "id": "T6lFdZ3ZasSH",
        "outputId": "5b650f6a-c3ec-4af9-e4f4-9fcf274f44ef"
      },
      "execution_count": 10,
      "outputs": [
        {
          "output_type": "stream",
          "name": "stderr",
          "text": [
            "Resampling: 100%|██████████| 13663/13663 [00:45<00:00, 298.05it/s]\n",
            "Resampling: 100%|██████████| 1708/1708 [00:05<00:00, 300.11it/s]\n"
          ]
        }
      ]
    },
    {
      "cell_type": "code",
      "source": [
        "from random import sample\n",
        "import torch\n",
        "from tqdm import tqdm\n",
        "import gc\n",
        "\n",
        "def tokens_working_processes_batched(rf_ds, batch_size=32):\n",
        "\n",
        "    for i in tqdm(range(0, len(rf_ds), batch_size), desc=\"Processing batches\"):\n",
        "        batch = rf_ds[i:i + batch_size]\n",
        "\n",
        "        audio_arrays = [sample[\"audio\"][\"array\"] for sample in batch]\n",
        "        sentences = [sample[\"sentence\"] for sample in batch]\n",
        "\n",
        "        inputs = processor(\n",
        "            audio_arrays,\n",
        "            sampling_rate=16000,\n",
        "            padding=True,\n",
        "            max_length=16000,\n",
        "            truncation=True\n",
        "        )\n",
        "\n",
        "        # Word registry fix, in case some models don't support lower registry letters (common issue with Jonathas greek model)\n",
        "        sentences_upper = [sentence.upper() for sentence in sentences]\n",
        "\n",
        "        labels = processor.tokenizer(\n",
        "            sentences_upper,\n",
        "            padding='max_length',\n",
        "            max_length=512,\n",
        "            truncation=True\n",
        "        )\n",
        "\n",
        "        labels_ids = labels[\"input_ids\"]\n",
        "        labels_ids = torch.tensor(labels_ids)\n",
        "        labels_ids[labels_ids == 0] = -100\n",
        "\n",
        "    return {\n",
        "        **inputs,\n",
        "        \"labels\": labels_ids,\n",
        "    }"
      ],
      "metadata": {
        "id": "GmCG4ooiqdHM"
      },
      "execution_count": 16,
      "outputs": []
    },
    {
      "cell_type": "code",
      "source": [
        "# from random import sample\n",
        "\n",
        "# def tokens_working_processes(rf_ds):\n",
        "#     audio_arrays = [sample[\"audio\"][\"array\"] for sample in rf_ds]\n",
        "#     sentences = [sample[\"sentence\"] for sample in rf_ds]\n",
        "#     pronunciation = [sample[\"pronunciation\"] for sample in rf_ds]\n",
        "\n",
        "#     inputs = processor(\n",
        "#         audio_arrays,\n",
        "#         sampling_rate=16000,\n",
        "#         padding=True,\n",
        "#         max_length=16000,\n",
        "#         truncation=True\n",
        "#     )\n",
        "\n",
        "#     # Word registry fix, in case some models don't support lower registry letters (common issue with Jonathas greek model)\n",
        "#     sentences_upper = [sentence.upper() for sentence in sentences]\n",
        "#     pronunciation_upper = [pronun.upper() for pronun in pronunciation]\n",
        "\n",
        "#     labels = processor.tokenizer(\n",
        "#         sentences_upper,\n",
        "#         padding='max_length',\n",
        "#         max_length=512,\n",
        "#         truncation=True\n",
        "#     )\n",
        "\n",
        "#     pronounce_labels = processor.tokenizer(\n",
        "#         pronunciation_upper,\n",
        "#         padding='max_length',\n",
        "#         max_length=512,\n",
        "#         truncation=True\n",
        "#     )\n",
        "\n",
        "#     labels_ids = labels[\"input_ids\"]\n",
        "#     labels_ids = torch.tensor(labels_ids)\n",
        "#     labels_ids[labels_ids == 0] = -100\n",
        "\n",
        "#     pronounce_labels_ids = pronounce_labels[\"input_ids\"]\n",
        "#     pronounce_labels_ids = torch.tensor(pronounce_labels_ids)\n",
        "#     pronounce_labels_ids[pronounce_labels_ids == 0] = -100\n",
        "\n",
        "#     return {\n",
        "#         **inputs,\n",
        "#         \"labels\": labels_ids,\n",
        "#         # \"pronounce_labels\": pronounce_labels_ids # Greek model does not recognize english tokens -> therefore we will skip pronunciation for now\n",
        "#     }"
      ],
      "metadata": {
        "id": "0DCuxTkwgU2W"
      },
      "execution_count": 12,
      "outputs": []
    },
    {
      "cell_type": "code",
      "source": [
        "# processed_data_train = tokens_working_processes(reforged_train)\n",
        "# processed_data_eval = tokens_working_processes(reforged_eval)\n",
        "\n",
        "\n",
        "processed_data_train = tokens_working_processes_batched(reforged_train, batch_size=16)\n",
        "processed_data_eval = tokens_working_processes_batched(reforged_eval, batch_size=16)"
      ],
      "metadata": {
        "colab": {
          "base_uri": "https://localhost:8080/"
        },
        "id": "R5LsnhxCbAGQ",
        "outputId": "5d186bb8-1c62-41ea-b8d5-97314a1fcfca"
      },
      "execution_count": 17,
      "outputs": [
        {
          "output_type": "stream",
          "name": "stderr",
          "text": [
            "Processing batches: 100%|██████████| 854/854 [00:04<00:00, 179.73it/s]\n",
            "Processing batches: 100%|██████████| 107/107 [00:00<00:00, 179.17it/s]\n"
          ]
        }
      ]
    },
    {
      "cell_type": "code",
      "source": [
        "train_hf = Dataset.from_dict(processed_data_train)\n",
        "eval_hf = Dataset.from_dict(processed_data_eval)"
      ],
      "metadata": {
        "id": "UqDMdry7hLAu"
      },
      "execution_count": 19,
      "outputs": []
    },
    {
      "cell_type": "code",
      "source": [
        "# Проверьте размер вашего обработанного датасета:\n",
        "print(\"Train size:\", len(processed_data_train['input_values']))\n",
        "print(\"Labels size:\", len(processed_data_train['labels']))\n",
        "\n",
        "# Проверьте что данные не пустые:\n",
        "print(\"First sample keys:\", processed_data_train.keys())\n",
        "print(\"Sample input_values shape:\", processed_data_train['input_values'][0].shape)"
      ],
      "metadata": {
        "id": "ea1Lo3rklNU6"
      },
      "execution_count": null,
      "outputs": []
    },
    {
      "cell_type": "code",
      "source": [
        "print(\"train_hf length:\", len(train_hf))\n",
        "print(\"eval_hf length:\", len(eval_hf))\n",
        "print(\"train_hf[0] keys:\", train_hf[0].keys())"
      ],
      "metadata": {
        "id": "yRdgHIvPl_8R"
      },
      "execution_count": null,
      "outputs": []
    },
    {
      "cell_type": "code",
      "source": [
        "import torch\n",
        "\n",
        "from dataclasses import dataclass, field\n",
        "from typing import Any, Dict, List, Optional, Union\n",
        "\n",
        "@dataclass\n",
        "class DataCollatorCTCWithPadding:\n",
        "    \"\"\"\n",
        "    Data collator that will dynamically pad the inputs received.\n",
        "    Args:\n",
        "        processor (:class:`~transformers.Wav2Vec2Processor`)\n",
        "            The processor used for proccessing the data.\n",
        "        padding (:obj:`bool`, :obj:`str` or :class:`~transformers.tokenization_utils_base.PaddingStrategy`, `optional`, defaults to :obj:`True`):\n",
        "            Select a strategy to pad the returned sequences (according to the model's padding side and padding index)\n",
        "            among:\n",
        "            * :obj:`True` or :obj:`'longest'`: Pad to the longest sequence in the batch (or no padding if only a single\n",
        "              sequence if provided).\n",
        "            * :obj:`'max_length'`: Pad to a maximum length specified with the argument :obj:`max_length` or to the\n",
        "              maximum acceptable input length for the model if that argument is not provided.\n",
        "            * :obj:`False` or :obj:`'do_not_pad'` (default): No padding (i.e., can output a batch with sequences of\n",
        "              different lengths).\n",
        "        max_length (:obj:`int`, `optional`):\n",
        "            Maximum length of the ``input_values`` of the returned list and optionally padding length (see above).\n",
        "        max_length_labels (:obj:`int`, `optional`):\n",
        "            Maximum length of the ``labels`` returned list and optionally padding length (see above).\n",
        "        pad_to_multiple_of (:obj:`int`, `optional`):\n",
        "            If set will pad the sequence to a multiple of the provided value.\n",
        "            This is especially useful to enable the use of Tensor Cores on NVIDIA hardware with compute capability >=\n",
        "            7.5 (Volta).\n",
        "    \"\"\"\n",
        "\n",
        "    processor: Wav2Vec2Processor\n",
        "    padding: Union[bool, str] = True\n",
        "    max_length: Optional[int] = None\n",
        "    max_length_labels: Optional[int] = None\n",
        "    pad_to_multiple_of: Optional[int] = None\n",
        "    pad_to_multiple_of_labels: Optional[int] = None\n",
        "\n",
        "    def __call__(self, features: List[Dict[str, Union[List[int], torch.Tensor]]]) -> Dict[str, torch.Tensor]:\n",
        "        # split inputs and labels since they have to be of different lengths and need\n",
        "        # different padding methods\n",
        "        input_features = [{\"input_values\": feature[\"input_values\"]} for feature in features]\n",
        "        label_features = [{\"input_ids\": feature[\"labels\"]} for feature in features]\n",
        "\n",
        "        batch = self.processor.pad(\n",
        "            input_features,\n",
        "            padding=self.padding,\n",
        "            max_length=self.max_length,\n",
        "            pad_to_multiple_of=self.pad_to_multiple_of,\n",
        "            return_tensors=\"pt\",\n",
        "        )\n",
        "        with self.processor.as_target_processor():\n",
        "            labels_batch = self.processor.pad(\n",
        "                label_features,\n",
        "                padding=self.padding,\n",
        "                max_length=self.max_length_labels,\n",
        "                pad_to_multiple_of=self.pad_to_multiple_of_labels,\n",
        "                return_tensors=\"pt\",\n",
        "            )\n",
        "\n",
        "        # replace padding with -100 to ignore loss correctly\n",
        "        labels = labels_batch[\"input_ids\"].masked_fill(labels_batch.attention_mask.ne(1), -100)\n",
        "\n",
        "        batch[\"labels\"] = labels\n",
        "\n",
        "        return batch\n"
      ],
      "metadata": {
        "id": "vbNVJo1vmHw_"
      },
      "execution_count": 21,
      "outputs": []
    },
    {
      "cell_type": "code",
      "source": [
        "data_collator = DataCollatorCTCWithPadding(processor=processor, padding=True)"
      ],
      "metadata": {
        "id": "p5h2Wim5mItB"
      },
      "execution_count": null,
      "outputs": []
    },
    {
      "cell_type": "code",
      "source": [
        "from transformers import TrainingArguments, Trainer\n",
        "\n",
        "training_args = TrainingArguments(\n",
        "    output_dir=\"./wac2vec2-milamou\",\n",
        "    num_train_epochs=8,\n",
        "    #################\n",
        "    per_device_train_batch_size=1,\n",
        "    per_device_eval_batch_size=2,\n",
        "    ################\n",
        "    learning_rate=5e-4,\n",
        "    warmup_steps=500,\n",
        "    save_steps=200,\n",
        "    eval_steps=50,\n",
        "    bf16 = True,\n",
        "    weight_decay=0.01,\n",
        "    eval_strategy=\"steps\",\n",
        "    save_strategy=\"steps\",\n",
        "    load_best_model_at_end=True,\n",
        "    report_to='wandb',\n",
        "    metric_for_best_model=\"eval_loss\",\n",
        "    greater_is_better=False,\n",
        "    logging_steps=10,\n",
        ")\n",
        "\n",
        "trainer = Trainer(\n",
        "    model=model,\n",
        "    args=training_args,\n",
        "    train_dataset=train_hf,\n",
        "    eval_dataset=eval_hf,\n",
        "    data_collator=data_collator,\n",
        "    tokenizer=processor.tokenizer,\n",
        ")"
      ],
      "metadata": {
        "id": "_HxLtMUQh9mM"
      },
      "execution_count": null,
      "outputs": []
    },
    {
      "cell_type": "code",
      "source": [
        "trainer.train()"
      ],
      "metadata": {
        "id": "v7QuVpDLidbi"
      },
      "execution_count": null,
      "outputs": []
    }
  ]
}