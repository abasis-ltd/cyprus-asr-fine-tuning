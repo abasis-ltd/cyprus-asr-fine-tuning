{
  "nbformat": 4,
  "nbformat_minor": 0,
  "metadata": {
    "colab": {
      "provenance": [],
      "gpuType": "V28"
    },
    "kernelspec": {
      "name": "python3",
      "display_name": "Python 3"
    },
    "language_info": {
      "name": "python"
    },
    "accelerator": "TPU"
  },
  "cells": [
    {
      "cell_type": "code",
      "source": [
        "import regex\n",
        "import os"
      ],
      "metadata": {
        "id": "3oZTGphDRYN5"
      },
      "execution_count": 23,
      "outputs": []
    },
    {
      "cell_type": "code",
      "source": [
        "clear_path = './ABBYY_clear.txt'\n",
        "edited_path = './ABBYY_edited.txt'"
      ],
      "metadata": {
        "id": "e8BSfr1oRbZU"
      },
      "execution_count": 10,
      "outputs": []
    },
    {
      "cell_type": "code",
      "source": [
        "with open(clear_path, 'r', encoding='utf-8') as f:\n",
        "    clear = f.read()"
      ],
      "metadata": {
        "id": "xKt4AM_ZRwb4"
      },
      "execution_count": 15,
      "outputs": []
    },
    {
      "cell_type": "code",
      "source": [
        "with open(edited_path, 'r', encoding='utf-8') as f:\n",
        "    edited = f.read()"
      ],
      "metadata": {
        "id": "41YdGBOpSJp4"
      },
      "execution_count": 16,
      "outputs": []
    },
    {
      "cell_type": "code",
      "source": [
        "clean_clear = regex.sub(r\"[^\\p{L} ]+\", \"\", clear.lower())\n",
        "edited_clear = regex.sub(r\"[^\\p{L} ]+\", \"\", edited.lower())"
      ],
      "metadata": {
        "id": "sEVIYPzCSwhl"
      },
      "execution_count": 24,
      "outputs": []
    },
    {
      "cell_type": "code",
      "source": [
        "words_clean = clean_clear.split()\n",
        "words_edited = edited_clear.split()"
      ],
      "metadata": {
        "id": "6g5JyO2sT7mT"
      },
      "execution_count": 37,
      "outputs": []
    },
    {
      "cell_type": "code",
      "source": [
        "words_clean_combined = []\n",
        "edited_clean_combined = []"
      ],
      "metadata": {
        "id": "Uu7zjd2sU9AJ"
      },
      "execution_count": 44,
      "outputs": []
    },
    {
      "cell_type": "code",
      "source": [
        "def split(words, combined):\n",
        "  for i in range(0, len(words), 10):\n",
        "      chunk = words[i:i+10]\n",
        "      line = \" \".join(chunk)\n",
        "      combined.append(line)\n",
        "  return combined"
      ],
      "metadata": {
        "id": "QGrJ5YZuUO2v"
      },
      "execution_count": 50,
      "outputs": []
    },
    {
      "cell_type": "code",
      "source": [
        "split(words_clean, words_clean_combined);\n",
        "split(words_edited, edited_clean_combined);"
      ],
      "metadata": {
        "id": "xSfUwMAeVaBe"
      },
      "execution_count": 54,
      "outputs": []
    },
    {
      "cell_type": "code",
      "source": [
        "kenlm_combined = []"
      ],
      "metadata": {
        "id": "dsJyirKySb44"
      },
      "execution_count": 60,
      "outputs": []
    },
    {
      "cell_type": "code",
      "source": [
        "def append_ken(kenlm, choosen):\n",
        "    for sentence in choosen:\n",
        "      kenlm.append(sentence)\n",
        "    return kenlm"
      ],
      "metadata": {
        "id": "ahK8dd-FVpr7"
      },
      "execution_count": 59,
      "outputs": []
    },
    {
      "cell_type": "code",
      "source": [
        "# append_ken(kenlm_combined, words_clean_combined);\n",
        "# append_ken(kenlm_combined, edited_clean_combined);"
      ],
      "metadata": {
        "id": "JzIqnLSSVre7"
      },
      "execution_count": 64,
      "outputs": []
    },
    {
      "cell_type": "code",
      "source": [
        "with open(\"output.txt\", \"w\", encoding=\"utf-8\") as f:\n",
        "    for line in kenlm_combined:\n",
        "        f.write(line + \"\\n\")"
      ],
      "metadata": {
        "id": "AZ2l5SlhWN8j"
      },
      "execution_count": 67,
      "outputs": []
    }
  ]
}