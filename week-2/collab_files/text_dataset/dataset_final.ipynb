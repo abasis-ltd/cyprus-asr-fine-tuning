{
  "nbformat": 4,
  "nbformat_minor": 0,
  "metadata": {
    "colab": {
      "provenance": [],
      "gpuType": "T4"
    },
    "kernelspec": {
      "name": "python3",
      "display_name": "Python 3"
    },
    "language_info": {
      "name": "python"
    },
    "accelerator": "GPU"
  },
  "cells": [
    {
      "cell_type": "code",
      "execution_count": null,
      "metadata": {
        "id": "qts2CdKo8VjG"
      },
      "outputs": [],
      "source": [
        "import pandas as pd\n",
        "import re\n",
        "from datasets import Dataset, Audio"
      ]
    },
    {
      "cell_type": "code",
      "source": [
        "dataset = \"./ABBYY_clear.txt\""
      ],
      "metadata": {
        "id": "DsnddN4j8uzj"
      },
      "execution_count": null,
      "outputs": []
    },
    {
      "cell_type": "code",
      "source": [
        "with open(dataset, \"r\") as f: # reading a txt file\n",
        "    data = f.readlines()"
      ],
      "metadata": {
        "id": "9dQLRhkH8x6M"
      },
      "execution_count": null,
      "outputs": []
    },
    {
      "cell_type": "code",
      "source": [
        "df = pd.DataFrame(data)"
      ],
      "metadata": {
        "id": "JnoFGNRX8zZ3"
      },
      "execution_count": null,
      "outputs": []
    },
    {
      "cell_type": "code",
      "source": [
        "df.head()"
      ],
      "metadata": {
        "id": "bv6FjvOR80tU"
      },
      "execution_count": null,
      "outputs": []
    },
    {
      "cell_type": "code",
      "source": [
        "df[['word', 'description']] = df[0].str.extract(r'^([^(=\\[\\-,]+?)(?:\\s*[\\(=\\[\\-,]\\s*(.*))?$', expand=True)\n",
        "df = df.drop(0, axis=1)"
      ],
      "metadata": {
        "id": "QRaMnL8U82nZ"
      },
      "execution_count": null,
      "outputs": []
    },
    {
      "cell_type": "code",
      "source": [
        "# Cleaning\n",
        "#########################\n",
        "df.drop_duplicates(inplace=True)\n",
        "df = df[~df[\"word\"].str.contains(r'-\\d+-', regex=True, na=False)] # -number- deletion\n",
        "df['description'] = df['description'].fillna('N/A')\n",
        "#########################"
      ],
      "metadata": {
        "id": "mRScs-hq89Xs"
      },
      "execution_count": null,
      "outputs": []
    },
    {
      "cell_type": "code",
      "source": [
        "df = df.dropna(subset=['word']) # NaN for word section"
      ],
      "metadata": {
        "id": "hq6RMDZf9GE3"
      },
      "execution_count": null,
      "outputs": []
    },
    {
      "cell_type": "code",
      "source": [
        "df[df['description'] == 'N/A'].shape[0] # 2044 left, probably to drop, most of them are just page initials\n",
        "df.drop(df[df['description'] == 'N/A'].index, inplace=True)"
      ],
      "metadata": {
        "id": "kWp9FpMW9IBt"
      },
      "execution_count": null,
      "outputs": []
    },
    {
      "cell_type": "code",
      "source": [
        "import torch\n",
        "from transformers import AutoTokenizer, AutoModelForSeq2SeqLM\n",
        "from tqdm import tqdm\n",
        "\n",
        "tokenizer = AutoTokenizer.from_pretrained(\"ZiartisNikolas/NMT-cypriot-dialect-to-greek\")\n",
        "model = AutoModelForSeq2SeqLM.from_pretrained(\"ZiartisNikolas/NMT-cypriot-dialect-to-greek\")\n",
        "\n",
        "device = torch.device(\"cuda\" if torch.cuda.is_available() else \"cpu\")\n",
        "model = model.to(device)\n",
        "\n",
        "# Если используете несколько GPU, включите DataParallel\n",
        "if torch.cuda.device_count() > 1:\n",
        "    model = torch.nn.DataParallel(model)"
      ],
      "metadata": {
        "id": "CesUR6ng9JOB"
      },
      "execution_count": null,
      "outputs": []
    },
    {
      "cell_type": "code",
      "source": [
        "# !pip install sacremoses"
      ],
      "metadata": {
        "id": "0a3wV8aNp4CL"
      },
      "execution_count": null,
      "outputs": []
    },
    {
      "cell_type": "code",
      "source": [
        "df.info()"
      ],
      "metadata": {
        "id": "DrEvfTonpwET"
      },
      "execution_count": null,
      "outputs": []
    },
    {
      "cell_type": "code",
      "source": [
        "complete = pd.read_csv('full8-12.csv')\n",
        "really_full = pd.read_csv('complete_dataset.csv')"
      ],
      "metadata": {
        "id": "MZn1Qtoeo4g9"
      },
      "execution_count": null,
      "outputs": []
    },
    {
      "cell_type": "code",
      "source": [
        "def translate_to_greek(text):\n",
        "    if pd.isna(text) or text == '':\n",
        "        return ''\n",
        "\n",
        "    # Токенизация и перенос на GPU\n",
        "    inputs = tokenizer(text, return_tensors=\"pt\", truncation=True, max_length=512)\n",
        "    inputs = {k: v.to(device) for k, v in inputs.items()}\n",
        "\n",
        "    with torch.no_grad():\n",
        "        # Исправление: убрать .module если не используете DataParallel\n",
        "        if torch.cuda.device_count() > 1:\n",
        "            outputs = model.module.generate(**inputs, max_length=512, num_beams=4, early_stopping=True)\n",
        "        else:\n",
        "            outputs = model.generate(**inputs, max_length=512, num_beams=4, early_stopping=True)\n",
        "\n",
        "    translation = tokenizer.decode(outputs[0], skip_special_tokens=True)\n",
        "    return translation"
      ],
      "metadata": {
        "id": "3mKxN_eL9KWF"
      },
      "execution_count": null,
      "outputs": []
    },
    {
      "cell_type": "code",
      "source": [
        "tqdm.pandas(desc=\"Translating\")\n",
        "\n",
        "# df['greek_word'] = df['word'][15000:].progress_apply(translate_to_greek)\n",
        "complete['greek_description'] = complete['description'][8000:12000].progress_apply(translate_to_greek)\n",
        "\n",
        "# print(df[['word', 'description', 'greek_translation']].head())"
      ],
      "metadata": {
        "id": "ohA6ytmE9M7l"
      },
      "execution_count": null,
      "outputs": []
    },
    {
      "cell_type": "code",
      "source": [
        "complete.to_csv('full8-12.csv')"
      ],
      "metadata": {
        "id": "N_gR2Anu9XhB"
      },
      "execution_count": null,
      "outputs": []
    },
    {
      "cell_type": "code",
      "source": [
        "complete.drop()"
      ],
      "metadata": {
        "id": "yt_urqsxTavj"
      },
      "execution_count": null,
      "outputs": []
    },
    {
      "cell_type": "code",
      "source": [
        "complete[8050:8100]"
      ],
      "metadata": {
        "id": "IeIRw2Vd08Ta"
      },
      "execution_count": null,
      "outputs": []
    },
    {
      "cell_type": "code",
      "source": [],
      "metadata": {
        "id": "yqtTSDS31D_h"
      },
      "execution_count": null,
      "outputs": []
    },
    {
      "cell_type": "code",
      "source": [
        "ready.info()"
      ],
      "metadata": {
        "id": "NKbsIZz84HJ-"
      },
      "execution_count": null,
      "outputs": []
    },
    {
      "cell_type": "code",
      "source": [
        "# Вместо concat, просто заполним пропуски\n",
        "ready = really_full.copy()\n",
        "\n",
        "# Заполнить пропуски в greek_description данными из complete\n",
        "ready.loc[8000:11999, 'greek_description'] = complete['greek_description'][8000:12000].values\n",
        "\n",
        "print(\"Пропусков после заполнения:\", ready['greek_description'].isna().sum())"
      ],
      "metadata": {
        "id": "yZCRUU5o4Huj"
      },
      "execution_count": null,
      "outputs": []
    },
    {
      "cell_type": "code",
      "source": [
        "ready.info()"
      ],
      "metadata": {
        "id": "bkmtvlE35wPP"
      },
      "execution_count": null,
      "outputs": []
    },
    {
      "cell_type": "code",
      "source": [
        "ready.drop_duplicates()"
      ],
      "metadata": {
        "id": "I7HwQUzh5-aA"
      },
      "execution_count": null,
      "outputs": []
    },
    {
      "cell_type": "code",
      "source": [
        "ready.info()"
      ],
      "metadata": {
        "id": "Wnnct43P6PVR"
      },
      "execution_count": null,
      "outputs": []
    },
    {
      "cell_type": "code",
      "source": [
        "ready = ready.drop(columns=['Unnamed: 0'], errors='ignore')\n",
        "\n",
        "# Удалить дубликаты\n",
        "ready = ready.drop_duplicates()"
      ],
      "metadata": {
        "id": "EmA9ZqvG6QEs"
      },
      "execution_count": null,
      "outputs": []
    },
    {
      "cell_type": "code",
      "source": [
        "ready = ready.dropna()"
      ],
      "metadata": {
        "id": "sw_Np1HZ6Yse"
      },
      "execution_count": null,
      "outputs": []
    },
    {
      "cell_type": "code",
      "source": [
        "ready.info()"
      ],
      "metadata": {
        "id": "WTaGM44i6Z6B"
      },
      "execution_count": null,
      "outputs": []
    },
    {
      "cell_type": "code",
      "source": [
        "ready.to_csv('DATASET.csv')"
      ],
      "metadata": {
        "id": "P0vcOHwZ6hXJ"
      },
      "execution_count": null,
      "outputs": []
    },
    {
      "cell_type": "code",
      "source": [
        "ready.head()"
      ],
      "metadata": {
        "id": "LvagWmbc6pVD"
      },
      "execution_count": null,
      "outputs": []
    },
    {
      "cell_type": "code",
      "source": [
        "ready = ready[['word', 'description', 'greek_word', 'greek_description']]"
      ],
      "metadata": {
        "id": "Wz7zX63m6qgx"
      },
      "execution_count": null,
      "outputs": []
    },
    {
      "cell_type": "code",
      "source": [
        "ready"
      ],
      "metadata": {
        "id": "EUjH6gi56zi4"
      },
      "execution_count": null,
      "outputs": []
    },
    {
      "cell_type": "code",
      "source": [
        "#### Step 1\n",
        "word_lengths = ready['word'].str.len()\n",
        "desc_lengths = ready['description'].str.len()\n",
        "shorter_desc = desc_lengths < word_lengths\n",
        "\n",
        "print(f\"Строк для удаления (description короче word): {shorter_desc.sum()}\")\n",
        "\n",
        "# Удаляем эти строки\n",
        "ready = ready[~shorter_desc]\n",
        "\n",
        "print(f\"После удаления: {len(ready)}\")\n",
        "print(f\"Удалено строк: {shorter_desc.sum()}\")"
      ],
      "metadata": {
        "id": "QdBPjdo0_GKm"
      },
      "execution_count": null,
      "outputs": []
    },
    {
      "cell_type": "code",
      "source": [
        "#############\n",
        "# Step 2\n",
        "print(f\"Было строк: {len(ready)}\")\n",
        "\n",
        "# Пересчитываем для текущего датасета\n",
        "has_digits = ready['word'].str.contains(r'\\d', na=False)\n",
        "\n",
        "print(f\"Строк для удаления (word содержит цифры): {has_digits.sum()}\")\n",
        "\n",
        "# Удаляем эти строки\n",
        "ready = ready[~has_digits]\n",
        "\n",
        "print(f\"После удаления: {len(ready)}\")\n",
        "print(f\"Удалено строк: {has_digits.sum()}\")"
      ],
      "metadata": {
        "id": "FgYB4b3K_g19"
      },
      "execution_count": null,
      "outputs": []
    },
    {
      "cell_type": "code",
      "source": [
        "# Step 3\n",
        "print(f\"Было строк: {len(ready)}\")\n",
        "\n",
        "repeated_chars_word = ready['greek_word'].str.contains(r'(.)\\1{3,}', na=False)\n",
        "repeated_chars_desc = ready['greek_description'].str.contains(r'(.)\\1{3,}', na=False)\n",
        "\n",
        "print(f\"Строк с повторениями в greek_word: {repeated_chars_word.sum()}\")\n",
        "print(f\"Строк с повторениями в greek_description: {repeated_chars_desc.sum()}\")\n",
        "\n",
        "\n",
        "to_remove = repeated_chars_word | repeated_chars_desc\n",
        "print(f\"Строк для удаления (повторения в greek_word ИЛИ greek_description): {to_remove.sum()}\")\n",
        "\n",
        "\n",
        "ready = ready[~to_remove]\n",
        "\n",
        "print(f\"После удаления: {len(ready)}\")\n",
        "print(f\"Удалено строк: {to_remove.sum()}\")"
      ],
      "metadata": {
        "id": "-aCDMTvs_1MG"
      },
      "execution_count": null,
      "outputs": []
    },
    {
      "cell_type": "code",
      "source": [
        "##########\n",
        "# Step 4\n",
        "print(f\"Было строк: {len(ready)}\")\n",
        "single_char_words = ready['word'].str.len() == 1\n",
        "\n",
        "print(f\"Строк для удаления (односимвольные слова): {single_char_words.sum()}\")\n",
        "\n",
        "ready = ready[~single_char_words]\n",
        "\n",
        "print(f\"После удаления: {len(ready)}\")\n",
        "print(f\"Удалено строк: {single_char_words.sum()}\")"
      ],
      "metadata": {
        "id": "ABRO5Xe-AI9P"
      },
      "execution_count": null,
      "outputs": []
    },
    {
      "cell_type": "code",
      "source": [
        "#########\n",
        "# Step 5\n",
        "print(f\"Было строк: {len(ready)}\")\n",
        "\n",
        "digit_count = ready['description'].str.count(r'\\d').fillna(0)\n",
        "total_count = ready['description'].str.len().fillna(0)\n",
        "non_digit_count = total_count - digit_count\n",
        "\n",
        "more_digits = digit_count > non_digit_count\n",
        "\n",
        "print(f\"Строк для удаления (в description цифр больше чем остальных): {more_digits.sum()}\")\n",
        "\n",
        "ready = ready[~more_digits]\n",
        "\n",
        "print(f\"После удаления: {len(ready)}\")\n",
        "print(f\"Удалено строк: {more_digits.sum()}\")"
      ],
      "metadata": {
        "id": "MVxfV-wKAXvp"
      },
      "execution_count": null,
      "outputs": []
    },
    {
      "cell_type": "code",
      "source": [
        "# single_char_words = ready['word'].str.len() == 1\n",
        "# count_single_char = single_char_words.sum()\n",
        "\n",
        "# has_digits = ready['word'].str.contains(r'\\d', na=False)\n",
        "# count_digits = has_digits.sum()\n",
        "\n",
        "# repeated_chars_word = ready['greek_word'].str.contains(r'(.)\\1{3,}', na=False)\n",
        "# repeated_chars_desc = ready['greek_description'].str.contains(r'(.)\\1{3,}', na=False)\n",
        "# count_repeated_word = repeated_chars_word.sum()\n",
        "# count_repeated_desc = repeated_chars_desc.sum()\n",
        "# both_repeated = repeated_chars_word & repeated_chars_desc\n",
        "\n",
        "# digit_count = ready['description'].str.count(r'\\d').fillna(0)\n",
        "# total_count = ready['description'].str.len().fillna(0)\n",
        "# non_digit_count = total_count - digit_count\n",
        "\n",
        "# # Найти строки где цифр больше чем остальных символов\n",
        "# more_digits = digit_count > non_digit_count\n",
        "# count_more_digits = more_digits.sum()"
      ],
      "metadata": {
        "id": "slG_iQZT7cRv"
      },
      "execution_count": null,
      "outputs": []
    },
    {
      "cell_type": "code",
      "source": [
        "ready.info()"
      ],
      "metadata": {
        "id": "zrFEzUamAdmR"
      },
      "execution_count": null,
      "outputs": []
    },
    {
      "cell_type": "code",
      "source": [
        "ready.to_csv('DATASET_CLEARED.csv')"
      ],
      "metadata": {
        "id": "0LGrwn4SAeDn"
      },
      "execution_count": null,
      "outputs": []
    },
    {
      "cell_type": "code",
      "source": [
        "hf_df = Dataset.from_dict(ready)"
      ],
      "metadata": {
        "id": "oeX_es4HBjq9"
      },
      "execution_count": null,
      "outputs": []
    },
    {
      "cell_type": "code",
      "source": [
        "hf_df"
      ],
      "metadata": {
        "id": "mUpZ8Lb8Br-S"
      },
      "execution_count": null,
      "outputs": []
    },
    {
      "cell_type": "code",
      "source": [
        "from huggingface_hub import login\n",
        "login()"
      ],
      "metadata": {
        "id": "JalG4SkdB8F3"
      },
      "execution_count": null,
      "outputs": []
    },
    {
      "cell_type": "code",
      "source": [
        "# Shuffling data and make it work for HF\n",
        "from datasets import Dataset, DatasetDict\n",
        "import pandas as pd\n",
        "\n",
        "ready_shuffled = ready.sample(frac=1, random_state=42).reset_index(drop=True)\n",
        "\n",
        "shuffled_dict = {\n",
        "    'word': ready_shuffled['word'].tolist(),\n",
        "    'description': ready_shuffled['description'].tolist(),\n",
        "    'greek_word': ready_shuffled['greek_word'].tolist(),\n",
        "    'greek_description': ready_shuffled['greek_description'].tolist()\n",
        "}"
      ],
      "metadata": {
        "id": "XbV_pdYYCphY"
      },
      "execution_count": null,
      "outputs": []
    },
    {
      "cell_type": "code",
      "source": [
        "# Количество строк одинаковое?\n",
        "print(f\"Строк до: {len(ready)}\")\n",
        "print(f\"Строк после: {len(ready_shuffled)}\")\n",
        "\n",
        "# Содержат ли одинаковые данные (но в другом порядке)?\n",
        "print(f\"Одинаковые слова: {set(ready['word']) == set(ready_shuffled['word'])}\")\n",
        "print(f\"Одинаковые описания: {len(set(ready['description'])) == len(set(ready_shuffled['description']))}\")"
      ],
      "metadata": {
        "id": "kbLTLH4wDetG"
      },
      "execution_count": null,
      "outputs": []
    },
    {
      "cell_type": "code",
      "source": [
        "ready_shuffled.info()"
      ],
      "metadata": {
        "id": "geYNIsCjC9k5"
      },
      "execution_count": null,
      "outputs": []
    },
    {
      "cell_type": "code",
      "source": [
        "hf_shuffled = Dataset.from_dict(ready_shuffled)"
      ],
      "metadata": {
        "id": "mh-wSQUrDttD"
      },
      "execution_count": null,
      "outputs": []
    },
    {
      "cell_type": "code",
      "source": [
        "from sklearn.model_selection import train_test_split"
      ],
      "metadata": {
        "id": "NnVCHqruD5DA"
      },
      "execution_count": null,
      "outputs": []
    },
    {
      "cell_type": "code",
      "source": [
        "hf_shuffled"
      ],
      "metadata": {
        "id": "Bo82-XRIDx7P"
      },
      "execution_count": null,
      "outputs": []
    },
    {
      "cell_type": "code",
      "source": [
        "train_temp = hf_shuffled.train_test_split(test_size=0.2, seed=42)\n",
        "val_test = train_temp['test'].train_test_split(test_size=0.5, seed=42)"
      ],
      "metadata": {
        "id": "wfTp4_8QD8Rd"
      },
      "execution_count": null,
      "outputs": []
    },
    {
      "cell_type": "code",
      "source": [
        "final_dataset = DatasetDict({\n",
        "    'train': train_temp['train'],        # 80% (~21,600)\n",
        "    'validation': val_test['train'],     # 10% (~2,700)\n",
        "    'test': val_test['test']            # 10% (~2,700)\n",
        "})"
      ],
      "metadata": {
        "id": "U7vj8cmDEcjH"
      },
      "execution_count": null,
      "outputs": []
    },
    {
      "cell_type": "code",
      "source": [
        "final_dataset"
      ],
      "metadata": {
        "id": "IjHjcOk3Egxe"
      },
      "execution_count": null,
      "outputs": []
    },
    {
      "cell_type": "code",
      "source": [
        "final_dataset.push_to_hub(\n",
        "   \"Elormiden/cypriot-greek-dictionary\",\n",
        "   private=True\n",
        ")"
      ],
      "metadata": {
        "id": "w0XJ89cQBx9M"
      },
      "execution_count": null,
      "outputs": []
    },
    {
      "cell_type": "code",
      "source": [],
      "metadata": {
        "id": "9NtS9-YOEnXu"
      },
      "execution_count": null,
      "outputs": []
    }
  ]
}