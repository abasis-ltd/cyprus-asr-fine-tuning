{
  "nbformat": 4,
  "nbformat_minor": 0,
  "metadata": {
    "colab": {
      "provenance": [],
      "gpuType": "T4"
    },
    "kernelspec": {
      "name": "python3",
      "display_name": "Python 3"
    },
    "language_info": {
      "name": "python"
    },
    "accelerator": "GPU"
  },
  "cells": [
    {
      "cell_type": "code",
      "execution_count": null,
      "metadata": {
        "id": "jiWCIYyoyeYf"
      },
      "outputs": [],
      "source": [
        "import pandas as pd\n",
        "import re"
      ]
    },
    {
      "cell_type": "code",
      "source": [
        "df = pd.read_csv(\"./descriptions_combined_4000.csv\")\n",
        "eight_df = pd.read_csv(\"./8000_description.csv\")\n",
        "twenty_df = pd.read_csv(\"./20000_description.csv\")\n",
        "twentyfour_df = pd.read_csv(\"./20-24000descriptions.csv\")\n",
        "sixteen_df = pd.read_csv(\"./16000_description.csv\")"
      ],
      "metadata": {
        "id": "FMoHzoGwyg_u"
      },
      "execution_count": null,
      "outputs": []
    },
    {
      "cell_type": "code",
      "source": [
        "# Magic Code (with variants section)\n",
        "##########################\n",
        "# df[['word', 'rest']] = df[0].str.extract(r'^([^,]+),\\s*(.*)', expand=True)\n",
        "# df['description'] = df[0].str.extract(r'\"(.*?)\"', expand=False)\n",
        "# df['variants'] = df['rest'].str.replace(r'\".*?\"', '', regex=True).str.strip()\n",
        "# ################################\n",
        "# df = df.drop('rest', axis=1)\n",
        "\n",
        "# df[['word', 'rest']] = df[0].str.extract(r'^([^,]+),\\s*(.*)', expand=True)\n",
        "# df['description'] = df['rest']\n",
        "# df = df.drop('rest', axis=1)\n",
        "\n",
        "# df['word'] = df[0].str.extract(r'^([^(=\\[\\-,]+?)(?=\\s*[\\(=\\[\\-,]|$)', expand=False)\n",
        "\n",
        "# pattern = r'^([^.]+)\\.\\s+(.*)$|^([^\"]+)\"\\s*(.*)$|^([^/]+)/\\s*(.*)$|^([^|]+)\\|\\s*(.*)$|^([^:]+):\\s*(.*)$'\n",
        "# df['word'] = df[0].str.extract(pattern, expand=False)[0]\n",
        "\n",
        "df[['word', 'description']] = df[0].str.extract(r'^([^(=\\[\\-,]+?)(?:\\s*[\\(=\\[\\-,]\\s*(.*))?$', expand=True)\n",
        "df = df.drop(0, axis=1)"
      ],
      "metadata": {
        "id": "XaOngaipdyaj"
      },
      "execution_count": null,
      "outputs": []
    },
    {
      "cell_type": "code",
      "source": [
        "step_0 = df\n",
        "step_0.info()"
      ],
      "metadata": {
        "id": "_gnrGueDhLbO"
      },
      "execution_count": null,
      "outputs": []
    },
    {
      "cell_type": "code",
      "source": [
        "# Cleaning\n",
        "#########################\n",
        "df.drop_duplicates(inplace=True)\n",
        "df = df[~df[\"word\"].str.contains(r'-\\d+-', regex=True, na=False)] # -number- deletion\n",
        "df['description'] = df['description'].fillna('N/A')\n",
        "#########################"
      ],
      "metadata": {
        "id": "JQIU8wUweNk0"
      },
      "execution_count": null,
      "outputs": []
    },
    {
      "cell_type": "code",
      "source": [
        "step_1 = df\n",
        "step_1.info()"
      ],
      "metadata": {
        "id": "Km6wSTtYmnEy"
      },
      "execution_count": null,
      "outputs": []
    },
    {
      "cell_type": "code",
      "source": [
        "df = df.dropna(subset=['word']) # NaN for word section"
      ],
      "metadata": {
        "id": "qWT4nku4Pxs_"
      },
      "execution_count": null,
      "outputs": []
    },
    {
      "cell_type": "code",
      "source": [
        "df.info()"
      ],
      "metadata": {
        "id": "JKA6cqexQBpO"
      },
      "execution_count": null,
      "outputs": []
    },
    {
      "cell_type": "code",
      "source": [
        "# ##############################\n",
        "# # Additional columns for better recognision\n",
        "# new_columns = ['transcription','greek_analog']\n",
        "# for col in new_columns:\n",
        "#     df[col] = ''\n",
        "\n",
        "# ########################"
      ],
      "metadata": {
        "id": "QlrUt64OnEdS"
      },
      "execution_count": null,
      "outputs": []
    },
    {
      "cell_type": "code",
      "source": [
        "df[df['description'] == 'N/A'].shape[0] # 2044 left, probably to drop, most of them are just page initials\n",
        "df.drop(df[df['description'] == 'N/A'].index, inplace=True)"
      ],
      "metadata": {
        "id": "nwsJmRfXw_h-"
      },
      "execution_count": null,
      "outputs": []
    },
    {
      "cell_type": "code",
      "source": [
        "df.info()"
      ],
      "metadata": {
        "id": "IS6PL9paSgcD"
      },
      "execution_count": null,
      "outputs": []
    },
    {
      "cell_type": "code",
      "source": [
        "# df[-30:-1]"
      ],
      "metadata": {
        "id": "w3W67eZZ40BY"
      },
      "execution_count": null,
      "outputs": []
    },
    {
      "cell_type": "code",
      "source": [
        "df.to_csv('clear_cypriot_dict.csv', index=False)"
      ],
      "metadata": {
        "id": "s6cYw9IWTemT"
      },
      "execution_count": null,
      "outputs": []
    },
    {
      "cell_type": "code",
      "source": [
        "# Load model directly\n",
        "from transformers import AutoTokenizer, AutoModelForSeq2SeqLM\n",
        "\n",
        "tokenizer = AutoTokenizer.from_pretrained(\"ZiartisNikolas/NMT-cypriot-dialect-to-greek\")\n",
        "model = AutoModelForSeq2SeqLM.from_pretrained(\"ZiartisNikolas/NMT-cypriot-dialect-to-greek\")"
      ],
      "metadata": {
        "id": "aDmm4jnLUhZZ"
      },
      "execution_count": null,
      "outputs": []
    },
    {
      "cell_type": "code",
      "source": [
        "from transformers import AutoTokenizer, AutoModelForSeq2SeqLM\n",
        "import torch\n",
        "from tqdm import tqdm\n",
        "\n",
        "# Загружаем модель\n",
        "tokenizer = AutoTokenizer.from_pretrained(\"ZiartisNikolas/NMT-cypriot-dialect-to-greek\")\n",
        "model = AutoModelForSeq2SeqLM.from_pretrained(\"ZiartisNikolas/NMT-cypriot-dialect-to-greek\")"
      ],
      "metadata": {
        "id": "zEW2QVvfU8-Q"
      },
      "execution_count": null,
      "outputs": []
    },
    {
      "cell_type": "code",
      "source": [
        "def translate_to_greek(text):\n",
        "    if pd.isna(text) or text == '':\n",
        "        return ''\n",
        "\n",
        "    inputs = tokenizer(text, return_tensors=\"pt\", truncation=True, max_length=512)\n",
        "    with torch.no_grad():\n",
        "        outputs = model.generate(**inputs, max_length=512, num_beams=4, early_stopping=True)\n",
        "\n",
        "\n",
        "    translation = tokenizer.decode(outputs[0], skip_special_tokens=True)\n",
        "    return translation\n"
      ],
      "metadata": {
        "id": "GoRNTVHxVUa5"
      },
      "execution_count": null,
      "outputs": []
    },
    {
      "cell_type": "code",
      "source": [
        "tqdm.pandas(desc=\"Translating\")\n",
        "\n",
        "df['greek_word'] = df['word'][:5].progress_apply(translate_to_greek)\n",
        "df['greek_description'] = df['description'][:5].progress_apply(translate_to_greek)\n",
        "\n",
        "print(\"Готово!\")\n",
        "print(df[['word', 'description', 'greek_translation']].head())"
      ],
      "metadata": {
        "id": "C5Uh8FzbVExC"
      },
      "execution_count": null,
      "outputs": []
    },
    {
      "cell_type": "code",
      "source": [
        "all_greek = pd.read_csv('cyprus_greek_full_words.csv')\n",
        "all_desc = pd.read_csv('combined_25000_desc.csv')"
      ],
      "metadata": {
        "id": "v9xLADPwk9yq"
      },
      "execution_count": null,
      "outputs": []
    },
    {
      "cell_type": "code",
      "source": [
        "all_greek.info()"
      ],
      "metadata": {
        "id": "3Ce5qvUnlctM"
      },
      "execution_count": null,
      "outputs": []
    },
    {
      "cell_type": "code",
      "source": [
        "all_desc.info()"
      ],
      "metadata": {
        "id": "9XFO7wxqlemX"
      },
      "execution_count": null,
      "outputs": []
    },
    {
      "cell_type": "code",
      "source": [
        "combined = pd.concat([\n",
        "    all_desc,\n",
        "    all_greek['greek_word']\n",
        "], axis=1, ignore_index=False)\n",
        "\n",
        "combined = combined.drop(columns=['Unnamed: 0'], errors='ignore')"
      ],
      "metadata": {
        "id": "DvHzUqNtlTZ0"
      },
      "execution_count": null,
      "outputs": []
    },
    {
      "cell_type": "code",
      "source": [
        "combined.info()"
      ],
      "metadata": {
        "id": "jHSp_XcVlZeT"
      },
      "execution_count": null,
      "outputs": []
    },
    {
      "cell_type": "code",
      "source": [
        "#################################\n",
        "# Final Cleaning\n",
        "combined.drop_duplicates(inplace=True)\n",
        "# combined.dropna(inplace=True)\n",
        "#################################\n",
        "\n",
        "has_digits = combined['word'].str.contains(r'\\d', na=False)"
      ],
      "metadata": {
        "id": "tdo74yiFlwnU"
      },
      "execution_count": null,
      "outputs": []
    }
  ]
}