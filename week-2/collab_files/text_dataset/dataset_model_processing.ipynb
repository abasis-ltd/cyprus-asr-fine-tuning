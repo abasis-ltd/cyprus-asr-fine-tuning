{
  "nbformat": 4,
  "nbformat_minor": 0,
  "metadata": {
    "colab": {
      "provenance": [],
      "gpuType": "T4"
    },
    "kernelspec": {
      "name": "python3",
      "display_name": "Python 3"
    },
    "language_info": {
      "name": "python"
    },
    "accelerator": "GPU"
  },
  "cells": [
    {
      "cell_type": "code",
      "source": [
        "import pandas as pd\n",
        "import re"
      ],
      "metadata": {
        "id": "UddVI0lKYrHS"
      },
      "execution_count": null,
      "outputs": []
    },
    {
      "cell_type": "code",
      "source": [
        "dataset = \"./ABBYY_clear.txt\""
      ],
      "metadata": {
        "id": "dA6-QNi3YrJa"
      },
      "execution_count": null,
      "outputs": []
    },
    {
      "cell_type": "code",
      "source": [
        "with open(dataset, \"r\") as f: # reading a txt file\n",
        "    data = f.readlines()"
      ],
      "metadata": {
        "id": "_sAwibLVYrLm"
      },
      "execution_count": null,
      "outputs": []
    },
    {
      "cell_type": "code",
      "source": [
        "df = pd.DataFrame(data)"
      ],
      "metadata": {
        "id": "jklPbQEiY4qw"
      },
      "execution_count": null,
      "outputs": []
    },
    {
      "cell_type": "code",
      "source": [
        "df.head()"
      ],
      "metadata": {
        "id": "1a6aCL6PZC50"
      },
      "execution_count": null,
      "outputs": []
    },
    {
      "cell_type": "code",
      "source": [
        "df.info()"
      ],
      "metadata": {
        "id": "5CFaXiDpZFEm"
      },
      "execution_count": null,
      "outputs": []
    },
    {
      "cell_type": "code",
      "source": [
        "df[['word', 'description']] = df[0].str.extract(r'^([^(=\\[\\-,]+?)(?:\\s*[\\(=\\[\\-,]\\s*(.*))?$', expand=True)\n",
        "df = df.drop(0, axis=1)"
      ],
      "metadata": {
        "id": "YSMT3BrZZHPq"
      },
      "execution_count": null,
      "outputs": []
    },
    {
      "cell_type": "code",
      "source": [
        "step_0 = df\n",
        "step_0.info()"
      ],
      "metadata": {
        "id": "k_oin9glZKk_"
      },
      "execution_count": null,
      "outputs": []
    },
    {
      "cell_type": "code",
      "source": [
        "# Cleaning\n",
        "#########################\n",
        "df.drop_duplicates(inplace=True)\n",
        "df = df[~df[\"word\"].str.contains(r'-\\d+-', regex=True, na=False)] # -number- deletion\n",
        "df['description'] = df['description'].fillna('N/A')\n",
        "#########################"
      ],
      "metadata": {
        "id": "wiuPyzoYZL-R"
      },
      "execution_count": null,
      "outputs": []
    },
    {
      "cell_type": "code",
      "source": [
        "step_1 = df\n",
        "step_1.info()"
      ],
      "metadata": {
        "id": "_hOBytdqZT6x"
      },
      "execution_count": null,
      "outputs": []
    },
    {
      "cell_type": "code",
      "source": [
        "df = df.dropna(subset=['word']) # NaN for word section"
      ],
      "metadata": {
        "id": "WyUeYW0aZXBC"
      },
      "execution_count": null,
      "outputs": []
    },
    {
      "cell_type": "code",
      "source": [
        "df[df['description'] == 'N/A'].shape[0] # 2044 left, probably to drop, most of them are just page initials\n",
        "df.drop(df[df['description'] == 'N/A'].index, inplace=True)"
      ],
      "metadata": {
        "id": "Wi6HHNmxZZKY"
      },
      "execution_count": null,
      "outputs": []
    },
    {
      "cell_type": "code",
      "source": [
        "df.info()"
      ],
      "metadata": {
        "id": "iD0PEyWSZdWC"
      },
      "execution_count": null,
      "outputs": []
    },
    {
      "cell_type": "code",
      "source": [
        "import torch\n",
        "from transformers import AutoTokenizer, AutoModelForSeq2SeqLM\n",
        "from tqdm import tqdm\n",
        "import pandas as pd\n",
        "\n",
        "tokenizer = AutoTokenizer.from_pretrained(\"ZiartisNikolas/NMT-cypriot-dialect-to-greek\")\n",
        "model = AutoModelForSeq2SeqLM.from_pretrained(\"ZiartisNikolas/NMT-cypriot-dialect-to-greek\")"
      ],
      "metadata": {
        "id": "Rn2F-_lwZsDk"
      },
      "execution_count": null,
      "outputs": []
    },
    {
      "cell_type": "code",
      "source": [
        "# !pip install sacremoses # recommended for model"
      ],
      "metadata": {
        "id": "Dhd7IHVLcaBw"
      },
      "execution_count": null,
      "outputs": []
    },
    {
      "cell_type": "code",
      "source": [
        "def translate_to_greek(text):\n",
        "    global translation_counter, df\n",
        "\n",
        "    if pd.isna(text) or text == '':\n",
        "        return ''\n",
        "\n",
        "    if translation_counter < 10:\n",
        "        print(f\"Input: {text[:100]}...\")\n",
        "\n",
        "    inputs = tokenizer(text, return_tensors=\"pt\", truncation=True, max_length=200)\n",
        "\n",
        "    with torch.no_grad():\n",
        "        outputs = model.generate(**inputs, max_length=200, num_beams=4, early_stopping=True)\n",
        "\n",
        "    translation = tokenizer.decode(outputs[0], skip_special_tokens=True)\n",
        "\n",
        "\n",
        "    return translation"
      ],
      "metadata": {
        "id": "0mIy1p5DcWW_"
      },
      "execution_count": null,
      "outputs": []
    },
    {
      "cell_type": "code",
      "source": [
        "tqdm.pandas(desc=\"Translating\")\n",
        "\n",
        "df['greek_word'] = df['word'][15000:].progress_apply(translate_to_greek)\n",
        "# df['greek_description'] = df['description'].progress_apply(translate_to_greek)\n",
        "\n",
        "# print(df[['word', 'description', 'greek_translation']].head())"
      ],
      "metadata": {
        "id": "NjpzyHQ0Zhbo"
      },
      "execution_count": null,
      "outputs": []
    }
  ]
}